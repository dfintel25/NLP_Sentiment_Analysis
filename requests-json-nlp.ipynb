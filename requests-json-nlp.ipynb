{
 "cells": [
  {
   "cell_type": "markdown",
   "metadata": {},
   "source": [
    "# Web Mining and Applied NLP (44-620)\n",
    "\n",
    "## Requests, JSON, and NLP\n",
    "\n",
    "### Derek Fintel\n",
    "\n",
    "Perform the tasks described in the Markdown cells below.  When you have completed the assignment make sure your code cells have all been run (and have output beneath them) and ensure you have committed and pushed ALL of your changes to your assignment repository.\n",
    "\n",
    "Make sure you have [installed spaCy and its pipeline](https://spacy.io/usage#quickstart) and [spaCyTextBlob](https://spacy.io/universe/project/spacy-textblob)\n",
    "\n",
    "Every question that requires you to write code will have a code cell underneath it; you may either write your entire solution in that cell or write it in a python file (`.py`), then import and run the appropriate code to answer the question.\n",
    "\n",
    "This assignment requires that you write additional files (either JSON or pickle files); make sure to submit those files in your repository as well."
   ]
  },
  {
   "cell_type": "markdown",
   "metadata": {},
   "source": [
    "1. The following code accesses the [lyrics.ovh](https://lyricsovh.docs.apiary.io/#reference/0/lyrics-of-a-song/search) public api, searches for the lyrics of a song, and stores it in a dictionary object.  Write the resulting json to a file (either a JSON file or a pickle file; you choose). You will read in the contents of this file for future questions so we do not need to frequently access the API."
   ]
  },
  {
   "cell_type": "code",
   "execution_count": 1,
   "metadata": {},
   "outputs": [],
   "source": [
    "import requests\n",
    "import json\n",
    "\n",
    "result = json.loads(requests.get('https://api.lyrics.ovh/v1/They Might Be Giants/Birdhouse in your soul').text)\n",
    "\n",
    "with open('lyrics.json', 'w', encoding='utf-8') as f:\n",
    "    json.dump(result, f, ensure_ascii=False, indent=4)"
   ]
  },
  {
   "cell_type": "markdown",
   "metadata": {},
   "source": [
    "2. Read in the contents of your file.  Print the lyrics of the song (not the entire dictionary!) and use spaCyTextBlob to perform sentiment analysis on the lyrics.  Print the polarity score of the sentiment analysis.  Given that the range of the polarity score is `[-1.0,1.0]` which corresponds to how positive or negative the text in question is, do you think the lyrics have a more positive or negative connotation?  Answer this question in a comment in your code cell."
   ]
  },
  {
   "cell_type": "code",
   "execution_count": 19,
   "metadata": {},
   "outputs": [
    {
     "name": "stdout",
     "output_type": "stream",
     "text": [
      "3.8.7\n",
      "5.0.0\n"
     ]
    }
   ],
   "source": [
    "import spacy\n",
    "import spacytextblob\n",
    "\n",
    "print(spacy.__version__)\n",
    "print(spacytextblob.__version__)\n"
   ]
  },
  {
   "cell_type": "code",
   "execution_count": 21,
   "metadata": {},
   "outputs": [
    {
     "name": "stdout",
     "output_type": "stream",
     "text": [
      "Pipeline components: ['tok2vec', 'tagger', 'parser', 'attribute_ruler', 'lemmatizer', 'ner', 'spacytextblob']\n",
      "Lyrics preview:\n",
      " I'm your only friend \n",
      "I'm not your only friend \n",
      "But I'm a little glowing friend \n",
      "But really I'm not actually your friend \n",
      "But I am \n",
      "\n",
      "\n",
      "Blue canary in the outlet by the light switch \n",
      "\n",
      "Who watches over you \n",
      "\n",
      "Make a little birdhouse in your soul \n",
      "\n",
      "Not to put too fine a point on it \n",
      "\n",
      "Say I'm the only bee ...\n"
     ]
    },
    {
     "ename": "AttributeError",
     "evalue": "[E046] Can't retrieve unregistered extension attribute 'polarity'. Did you forget to call the `set_extension` method?",
     "output_type": "error",
     "traceback": [
      "\u001b[31m---------------------------------------------------------------------------\u001b[39m",
      "\u001b[31mAttributeError\u001b[39m                            Traceback (most recent call last)",
      "\u001b[36mCell\u001b[39m\u001b[36m \u001b[39m\u001b[32mIn[21]\u001b[39m\u001b[32m, line 27\u001b[39m\n\u001b[32m     24\u001b[39m doc = nlp(lyrics)\n\u001b[32m     26\u001b[39m \u001b[38;5;66;03m# Now the polarity extension attribute should be available\u001b[39;00m\n\u001b[32m---> \u001b[39m\u001b[32m27\u001b[39m \u001b[38;5;28mprint\u001b[39m(\u001b[33m\"\u001b[39m\u001b[38;5;130;01m\\n\u001b[39;00m\u001b[33mPolarity Score:\u001b[39m\u001b[33m\"\u001b[39m, \u001b[43mdoc\u001b[49m\u001b[43m.\u001b[49m\u001b[43m_\u001b[49m\u001b[43m.\u001b[49m\u001b[43mpolarity\u001b[49m)\n",
      "\u001b[36mFile \u001b[39m\u001b[32mc:\\Projects\\NLP_Sentiment_Analysis\\.venv\\Lib\\site-packages\\spacy\\tokens\\underscore.py:48\u001b[39m, in \u001b[36mUnderscore.__getattr__\u001b[39m\u001b[34m(self, name)\u001b[39m\n\u001b[32m     46\u001b[39m \u001b[38;5;28;01mdef\u001b[39;00m\u001b[38;5;250m \u001b[39m\u001b[34m__getattr__\u001b[39m(\u001b[38;5;28mself\u001b[39m, name: \u001b[38;5;28mstr\u001b[39m) -> Any:\n\u001b[32m     47\u001b[39m     \u001b[38;5;28;01mif\u001b[39;00m name \u001b[38;5;129;01mnot\u001b[39;00m \u001b[38;5;129;01min\u001b[39;00m \u001b[38;5;28mself\u001b[39m._extensions:\n\u001b[32m---> \u001b[39m\u001b[32m48\u001b[39m         \u001b[38;5;28;01mraise\u001b[39;00m \u001b[38;5;167;01mAttributeError\u001b[39;00m(Errors.E046.format(name=name))\n\u001b[32m     49\u001b[39m     default, method, getter, setter = \u001b[38;5;28mself\u001b[39m._extensions[name]\n\u001b[32m     50\u001b[39m     \u001b[38;5;28;01mif\u001b[39;00m getter \u001b[38;5;129;01mis\u001b[39;00m \u001b[38;5;129;01mnot\u001b[39;00m \u001b[38;5;28;01mNone\u001b[39;00m:\n",
      "\u001b[31mAttributeError\u001b[39m: [E046] Can't retrieve unregistered extension attribute 'polarity'. Did you forget to call the `set_extension` method?"
     ]
    }
   ],
   "source": [
    "import json\n",
    "import spacy\n",
    "from spacytextblob.spacytextblob import SpacyTextBlob\n",
    "\n",
    "# Import spacytextblob first (registers extensions)\n",
    "# Load spaCy language model\n",
    "nlp = spacy.load(\"en_core_web_sm\")\n",
    "\n",
    "# Add spacytextblob component by name (registers extensions on Doc)\n",
    "if \"spacytextblob\" not in nlp.pipe_names:\n",
    "    nlp.add_pipe(\"spacytextblob\")\n",
    "\n",
    "# Verify component is in the pipeline\n",
    "print(\"Pipeline components:\", nlp.pipe_names)\n",
    "\n",
    "# Read lyrics from file\n",
    "with open(\"lyrics.json\", \"r\", encoding=\"utf-8\") as f:\n",
    "    data = json.load(f)\n",
    "lyrics = data[\"lyrics\"]\n",
    "\n",
    "print(\"Lyrics preview:\\n\", lyrics[:300], \"...\")\n",
    "\n",
    "# Process lyrics through the pipeline\n",
    "doc = nlp(lyrics)\n",
    "\n",
    "# Now the polarity extension attribute should be available\n",
    "print(\"\\nPolarity Score:\", doc._.polarity)\n"
   ]
  },
  {
   "cell_type": "code",
   "execution_count": 22,
   "metadata": {},
   "outputs": [
    {
     "name": "stdout",
     "output_type": "stream",
     "text": [
      "Lyrics preview:\n",
      " I'm your only friend \n",
      "I'm not your only friend \n",
      "But I'm a little glowing friend \n",
      "But really I'm not actually your friend \n",
      "But I am \n",
      "\n",
      "\n",
      "Blue canary in the outlet by the light switch \n",
      "\n",
      "Who watches over you \n",
      "\n",
      "Make a little birdhouse in your soul \n",
      "\n",
      "Not to put too fine a point on it \n",
      "\n",
      "Say I'm the only bee in your bonnet \n",
      "\n",
      "Make a little birdhouse in your soul \n",
      "\n",
      "\n",
      "\n",
      "I have a secret to tell \n",
      "\n",
      "From my electrical well \n",
      "\n",
      "It's a simple message and I'm leaving out the whistles and bells \n",
      "\n",
      "So the room must liste ...\n",
      "\n",
      "Polarity Score: 0.04505208333333333\n",
      "Subjectivity Score: 0.5532738095238096\n"
     ]
    }
   ],
   "source": [
    "import json\n",
    "import spacy\n",
    "from spacytextblob.spacytextblob import SpacyTextBlob\n",
    "from spacy.tokens import Doc\n",
    "from textblob import TextBlob\n",
    "\n",
    "# --- Manual registration of extension attributes ---\n",
    "\n",
    "if not Doc.has_extension(\"blob\"):\n",
    "    Doc.set_extension(\"blob\", getter=lambda doc: TextBlob(doc.text))\n",
    "\n",
    "if not Doc.has_extension(\"polarity\"):\n",
    "    Doc.set_extension(\"polarity\", getter=lambda doc: doc._.blob.polarity)\n",
    "\n",
    "if not Doc.has_extension(\"subjectivity\"):\n",
    "    Doc.set_extension(\"subjectivity\", getter=lambda doc: doc._.blob.subjectivity)\n",
    "\n",
    "# --- Load spaCy model and add spacytextblob pipe ---\n",
    "\n",
    "nlp = spacy.load(\"en_core_web_sm\")\n",
    "\n",
    "if \"spacytextblob\" not in nlp.pipe_names:\n",
    "    nlp.add_pipe(\"spacytextblob\")\n",
    "\n",
    "# --- Load lyrics JSON ---\n",
    "\n",
    "with open(\"lyrics.json\", \"r\", encoding=\"utf-8\") as f:\n",
    "    lyrics_data = json.load(f)\n",
    "\n",
    "lyrics = lyrics_data.get(\"lyrics\", \"\")\n",
    "print(\"Lyrics preview:\\n\", lyrics[:500], \"...\\n\")\n",
    "\n",
    "# --- Process lyrics and analyze sentiment ---\n",
    "\n",
    "doc = nlp(lyrics)\n",
    "\n",
    "print(f\"Polarity Score: {doc._.polarity}\")\n",
    "print(f\"Subjectivity Score: {doc._.subjectivity}\")\n"
   ]
  },
  {
   "cell_type": "markdown",
   "metadata": {},
   "source": [
    "3. Write a function that takes an artist, song, and filename, accesses the lyrics.ovh api to get the song lyrics, and writes the results to the specified filename.  Test this function by getting the lyrics to any four songs of your choice and storing them in different files."
   ]
  },
  {
   "cell_type": "code",
   "execution_count": 23,
   "metadata": {},
   "outputs": [
    {
     "name": "stdout",
     "output_type": "stream",
     "text": [
      "✅ Saved lyrics for 'Yellow' by Coldplay to 'yellow_lyrics.json'\n",
      "✅ Saved lyrics for 'Hello' by Adele to 'hello_lyrics.json'\n",
      "✅ Saved lyrics for 'Hey Jude' by The Beatles to 'hey_jude_lyrics.json'\n",
      "✅ Saved lyrics for 'Creep' by Radiohead to 'creep_lyrics.json'\n"
     ]
    }
   ],
   "source": [
    "import requests\n",
    "import json\n",
    "import os\n",
    "\n",
    "def save_lyrics_to_file(artist, song, filename):\n",
    "    \"\"\"Fetch lyrics from lyrics.ovh API and save to a JSON file.\"\"\"\n",
    "    base_url = \"https://api.lyrics.ovh/v1\"\n",
    "    url = f\"{base_url}/{artist}/{song}\"\n",
    "    \n",
    "    try:\n",
    "        response = requests.get(url)\n",
    "        response.raise_for_status()  # Raise exception for HTTP errors\n",
    "        lyrics_data = response.json()\n",
    "        \n",
    "        with open(filename, 'w', encoding='utf-8') as f:\n",
    "            json.dump(lyrics_data, f, ensure_ascii=False, indent=4)\n",
    "        print(f\"✅ Saved lyrics for '{song}' by {artist} to '{filename}'\")\n",
    "        \n",
    "    except requests.exceptions.RequestException as e:\n",
    "        print(f\"❌ Error fetching lyrics for '{song}' by {artist}: {e}\")\n",
    "\n",
    "# ✅ Test with 4 songs\n",
    "save_lyrics_to_file(\"Coldplay\", \"Yellow\", \"yellow_lyrics.json\")\n",
    "save_lyrics_to_file(\"Adele\", \"Hello\", \"hello_lyrics.json\")\n",
    "save_lyrics_to_file(\"The Beatles\", \"Hey Jude\", \"hey_jude_lyrics.json\")\n",
    "save_lyrics_to_file(\"Radiohead\", \"Creep\", \"creep_lyrics.json\")\n"
   ]
  },
  {
   "cell_type": "markdown",
   "metadata": {},
   "source": [
    "4. Write a function that takes the name of a file that contains song lyrics, loads the file, performs sentiment analysis, and returns the polarity score.  Use this function to print the polarity scores (with the name of the song) of the three files you created in question 3.  Does the reported polarity match your understanding of the song's lyrics? Why or why not do you think that might be?  Answer the questions in either a comment in the code cell or a markdown cell under the code cell."
   ]
  },
  {
   "cell_type": "code",
   "execution_count": 24,
   "metadata": {},
   "outputs": [
    {
     "name": "stdout",
     "output_type": "stream",
     "text": [
      "🎵 Polarity Scores:\n",
      "Yellow - Coldplay: Polarity = 0.243\n",
      "Hello - Adele: Polarity = -0.141\n",
      "Creep - Radiohead: Polarity = 0.579\n"
     ]
    }
   ],
   "source": [
    "import json\n",
    "import spacy\n",
    "from spacytextblob.spacytextblob import SpacyTextBlob\n",
    "\n",
    "# Load spaCy with spacytextblob (if not already loaded)\n",
    "nlp = spacy.load(\"en_core_web_sm\")\n",
    "if 'spacytextblob' not in nlp.pipe_names:\n",
    "    nlp.add_pipe('spacytextblob')\n",
    "\n",
    "def get_lyrics_polarity(filename):\n",
    "    \"\"\"Load lyrics from file and return sentiment polarity score.\"\"\"\n",
    "    with open(filename, 'r', encoding='utf-8') as f:\n",
    "        data = json.load(f)\n",
    "        lyrics = data.get(\"lyrics\", \"\")\n",
    "        doc = nlp(lyrics)\n",
    "        return doc._.polarity\n",
    "\n",
    "# ✅ Evaluate three songs and print results\n",
    "songs = {\n",
    "    \"Yellow - Coldplay\": \"yellow_lyrics.json\",\n",
    "    \"Hello - Adele\": \"hello_lyrics.json\",\n",
    "    \"Creep - Radiohead\": \"creep_lyrics.json\"\n",
    "}\n",
    "\n",
    "print(\"🎵 Polarity Scores:\")\n",
    "for title, file in songs.items():\n",
    "    polarity = get_lyrics_polarity(file)\n",
    "    print(f\"{title}: Polarity = {polarity:.3f}\")\n",
    "\n",
    "# 📝 Interpretation:\n",
    "# Based on the polarity scores printed above,\n",
    "# you can compare the sentiment with your subjective interpretation.\n"
   ]
  }
 ],
 "metadata": {
  "kernelspec": {
   "display_name": ".venv",
   "language": "python",
   "name": "python3"
  },
  "language_info": {
   "codemirror_mode": {
    "name": "ipython",
    "version": 3
   },
   "file_extension": ".py",
   "mimetype": "text/x-python",
   "name": "python",
   "nbconvert_exporter": "python",
   "pygments_lexer": "ipython3",
   "version": "3.13.1"
  }
 },
 "nbformat": 4,
 "nbformat_minor": 4
}
