{
 "cells": [
  {
   "cell_type": "markdown",
   "metadata": {},
   "source": [
    "# Web Mining and Applied NLP (44-620)\n",
    "\n",
    "## Requests, JSON, and NLP\n",
    "\n",
    "### Derek Fintel\n",
    "\n",
    "Perform the tasks described in the Markdown cells below.  When you have completed the assignment make sure your code cells have all been run (and have output beneath them) and ensure you have committed and pushed ALL of your changes to your assignment repository.\n",
    "\n",
    "Make sure you have [installed spaCy and its pipeline](https://spacy.io/usage#quickstart) and [spaCyTextBlob](https://spacy.io/universe/project/spacy-textblob)\n",
    "\n",
    "Every question that requires you to write code will have a code cell underneath it; you may either write your entire solution in that cell or write it in a python file (`.py`), then import and run the appropriate code to answer the question.\n",
    "\n",
    "This assignment requires that you write additional files (either JSON or pickle files); make sure to submit those files in your repository as well."
   ]
  },
  {
   "cell_type": "markdown",
   "metadata": {},
   "source": [
    "#### Initial version check"
   ]
  },
  {
   "cell_type": "code",
   "execution_count": 34,
   "metadata": {},
   "outputs": [
    {
     "name": "stdout",
     "output_type": "stream",
     "text": [
      "3.8.7\n",
      "5.0.0\n"
     ]
    }
   ],
   "source": [
    "import spacy\n",
    "import spacytextblob\n",
    "\n",
    "print(spacy.__version__)\n",
    "print(spacytextblob.__version__)"
   ]
  },
  {
   "cell_type": "markdown",
   "metadata": {},
   "source": [
    "1. The following code accesses the [lyrics.ovh](https://lyricsovh.docs.apiary.io/#reference/0/lyrics-of-a-song/search) public api, searches for the lyrics of a song, and stores it in a dictionary object.  Write the resulting json to a file (either a JSON file or a pickle file; you choose). You will read in the contents of this file for future questions so we do not need to frequently access the API."
   ]
  },
  {
   "cell_type": "code",
   "execution_count": 35,
   "metadata": {},
   "outputs": [],
   "source": [
    "import requests\n",
    "import json\n",
    "\n",
    "result = json.loads(requests.get('https://api.lyrics.ovh/v1/They Might Be Giants/Birdhouse in your soul').text)\n",
    "\n",
    "with open('lyrics.json', 'w', encoding='utf-8') as f:\n",
    "    json.dump(result, f, ensure_ascii=False, indent=4)"
   ]
  },
  {
   "cell_type": "markdown",
   "metadata": {},
   "source": [
    "2. Read in the contents of your file.  Print the lyrics of the song (not the entire dictionary!) and use spaCyTextBlob to perform sentiment analysis on the lyrics.  Print the polarity score of the sentiment analysis.  Given that the range of the polarity score is `[-1.0,1.0]` which corresponds to how positive or negative the text in question is, do you think the lyrics have a more positive or negative connotation?  Answer this question in a comment in your code cell."
   ]
  },
  {
   "cell_type": "code",
   "execution_count": null,
   "metadata": {},
   "outputs": [
    {
     "name": "stdout",
     "output_type": "stream",
     "text": [
      "Pipeline components: ['tok2vec', 'tagger', 'parser', 'attribute_ruler', 'lemmatizer', 'ner', 'spacytextblob']\n",
      "\n",
      "_lyrics preview:_\n",
      " *I'm your only friend \n",
      "I'm not your only friend \n",
      "But I'm a little glowing friend \n",
      "But really I'm not ...*\n",
      "\n",
      "Polarity: 0.05\n",
      "Subjectivity: 0.55\n"
     ]
    }
   ],
   "source": [
    "import json\n",
    "import spacy\n",
    "from spacy.tokens import Doc\n",
    "from spacytextblob.spacytextblob import SpacyTextBlob\n",
    "\n",
    "# Load model\n",
    "nlp = spacy.load(\"en_core_web_sm\")\n",
    "\n",
    "# Add component via factory string\n",
    "if \"spacytextblob\" not in nlp.pipe_names:\n",
    "    nlp.add_pipe(\"spacytextblob\", last=True)\n",
    "\n",
    "# Print pipeline components\n",
    "print(\"Pipeline components:\", nlp.pipe_names)\n",
    "\n",
    "# Manually register the extensions \n",
    "if not Doc.has_extension(\"polarity\"):\n",
    "    Doc.set_extension(\"polarity\", getter=lambda doc: doc._.blob.polarity)\n",
    "if not Doc.has_extension(\"subjectivity\"):\n",
    "    Doc.set_extension(\"subjectivity\", getter=lambda doc: doc._.blob.subjectivity)\n",
    "\n",
    "# Load lyrics from file\n",
    "with open(\"lyrics.json\", \"r\", encoding=\"utf-8\") as f:\n",
    "    data = json.load(f)\n",
    "lyrics = data[\"lyrics\"]\n",
    "\n",
    "# Preview\n",
    "print(\"\\n_lyrics preview:_\\n\", f\"*{lyrics[:100]}...*\")  \n",
    "\n",
    "# Run pipeline\n",
    "doc = nlp(lyrics)\n",
    "\n",
    "# Access registered attributes and round results\n",
    "polarity = round(doc._.polarity, 2)\n",
    "subjectivity = round(doc._.subjectivity, 2)\n",
    "\n",
    "# Print results\n",
    "print(\"\\nPolarity:\", polarity)\n",
    "print(\"Subjectivity:\", subjectivity)\n"
   ]
  },
  {
   "cell_type": "markdown",
   "metadata": {},
   "source": [
    "3. Write a function that takes an artist, song, and filename, accesses the lyrics.ovh api to get the song lyrics, and writes the results to the specified filename.  Test this function by getting the lyrics to any four songs of your choice and storing them in different files."
   ]
  },
  {
   "cell_type": "code",
   "execution_count": 40,
   "metadata": {},
   "outputs": [
    {
     "name": "stdout",
     "output_type": "stream",
     "text": [
      "Saved lyrics for 'Yellow' by Coldplay to 'yellow_lyrics.json'\n",
      "Saved lyrics for 'Hello' by Adele to 'hello_lyrics.json'\n",
      "Saved lyrics for 'Hey Jude' by The Beatles to 'hey_jude_lyrics.json'\n",
      "Saved lyrics for 'Creep' by Radiohead to 'creep_lyrics.json'\n",
      "Error fetching lyrics for 'Blood Blind' by Cannibal Corpse: 504 Server Error: Gateway Time-out for url: https://api.lyrics.ovh/v1/Cannibal%20Corpse/Blood%20Blind\n",
      "Error fetching lyrics for '96 quite bitter beings' by CKY: 504 Server Error: Gateway Time-out for url: https://api.lyrics.ovh/v1/CKY/96%20quite%20bitter%20beings\n",
      "Error fetching lyrics for 'Holiday Inn' by Chingy: 504 Server Error: Gateway Time-out for url: https://api.lyrics.ovh/v1/Chingy/Holiday%20Inn\n"
     ]
    }
   ],
   "source": [
    "import requests\n",
    "import json\n",
    "import os\n",
    "\n",
    "def save_lyrics_to_file(artist, song, filename):\n",
    "    \"\"\"Fetch lyrics from lyrics.ovh API and save to a JSON file.\"\"\"\n",
    "    base_url = \"https://api.lyrics.ovh/v1\"\n",
    "    url = f\"{base_url}/{artist}/{song}\"\n",
    "    \n",
    "    try:\n",
    "        response = requests.get(url)\n",
    "        response.raise_for_status()\n",
    "        lyrics_data = response.json()\n",
    "        \n",
    "        with open(filename, 'w', encoding='utf-8') as f:\n",
    "            json.dump(lyrics_data, f, ensure_ascii=False, indent=4)\n",
    "        print(f\"Saved lyrics for '{song}' by {artist} to '{filename}'\")\n",
    "        \n",
    "    except requests.exceptions.RequestException as e:\n",
    "        print(f\"Error fetching lyrics for '{song}' by {artist}: {e}\")\n",
    "\n",
    "# Example songs\n",
    "save_lyrics_to_file(\"Coldplay\", \"Yellow\", \"yellow_lyrics.json\")\n",
    "save_lyrics_to_file(\"Adele\", \"Hello\", \"hello_lyrics.json\")\n",
    "save_lyrics_to_file(\"The Beatles\", \"Hey Jude\", \"hey_jude_lyrics.json\")\n",
    "save_lyrics_to_file(\"Radiohead\", \"Creep\", \"creep_lyrics.json\")\n",
    "save_lyrics_to_file(\"Cannibal Corpse\", \"Blood Blind\", \"blood_blind_lyrics.json\")\n",
    "save_lyrics_to_file(\"CKY\", \"96 quite bitter beings\", \"96_quite_bitter_beings_lyrics.json\")\n",
    "save_lyrics_to_file(\"Chingy\", \"Holiday Inn\", \"holiday_inn_lyrics.json\")\n"
   ]
  },
  {
   "cell_type": "markdown",
   "metadata": {},
   "source": [
    "4. Write a function that takes the name of a file that contains song lyrics, loads the file, performs sentiment analysis, and returns the polarity score.  Use this function to print the polarity scores (with the name of the song) of the three files you created in question 3.  Does the reported polarity match your understanding of the song's lyrics? Why or why not do you think that might be?  Answer the questions in either a comment in the code cell or a markdown cell under the code cell."
   ]
  },
  {
   "cell_type": "code",
   "execution_count": 41,
   "metadata": {},
   "outputs": [
    {
     "name": "stdout",
     "output_type": "stream",
     "text": [
      "Polarity Scores:\n",
      "Yellow - Coldplay: Polarity = 0.243\n",
      "Hello - Adele: Polarity = -0.141\n",
      "Creep - Radiohead: Polarity = 0.579\n",
      "Hey Jude - The Beatles: Polarity = 0.132\n",
      "Blood Blind - Cannibal Corpse: Polarity = -0.209\n",
      "96 quite bitter beings - CKY: Polarity = 0.116\n",
      "Holiday Inn - Chingy: Polarity = -0.021\n"
     ]
    }
   ],
   "source": [
    "import json\n",
    "import spacy\n",
    "from spacytextblob.spacytextblob import SpacyTextBlob\n",
    "\n",
    "nlp = spacy.load(\"en_core_web_sm\")\n",
    "if 'spacytextblob' not in nlp.pipe_names:\n",
    "    nlp.add_pipe('spacytextblob')\n",
    "\n",
    "def get_lyrics_polarity(filename):\n",
    "    \"\"\"Load lyrics from file and return sentiment polarity score.\"\"\"\n",
    "    with open(filename, 'r', encoding='utf-8') as f:\n",
    "        data = json.load(f)\n",
    "        lyrics = data.get(\"lyrics\", \"\")\n",
    "        doc = nlp(lyrics)\n",
    "        return doc._.polarity\n",
    "\n",
    "# Evaluate songs and print results\n",
    "songs = {\n",
    "    \"Yellow - Coldplay\": \"yellow_lyrics.json\",\n",
    "    \"Hello - Adele\": \"hello_lyrics.json\",\n",
    "    \"Creep - Radiohead\": \"creep_lyrics.json\",\n",
    "    \"Hey Jude - The Beatles\": \"hey_jude_lyrics.json\", \n",
    "    \"Blood Blind - Cannibal Corpse\": \"blood_blind_lyrics.json\",\n",
    "    \"96 quite bitter beings - CKY\": \"96_quite_bitter_beings_lyrics.json\",\n",
    "    \"Holiday Inn - Chingy\": \"holiday_inn_lyrics.json\"\n",
    "}\n",
    "\n",
    "print(\"Polarity Scores:\")\n",
    "for title, file in songs.items():\n",
    "    polarity = get_lyrics_polarity(file)\n",
    "    print(f\"{title}: Polarity = {polarity:.3f}\")\n"
   ]
  }
 ],
 "metadata": {
  "kernelspec": {
   "display_name": ".venv",
   "language": "python",
   "name": "python3"
  },
  "language_info": {
   "codemirror_mode": {
    "name": "ipython",
    "version": 3
   },
   "file_extension": ".py",
   "mimetype": "text/x-python",
   "name": "python",
   "nbconvert_exporter": "python",
   "pygments_lexer": "ipython3",
   "version": "3.13.1"
  }
 },
 "nbformat": 4,
 "nbformat_minor": 4
}
